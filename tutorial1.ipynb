{
 "cells": [
  {
   "cell_type": "code",
   "execution_count": 3,
   "id": "03adc82c-efd1-4460-8a7b-46638bea8645",
   "metadata": {},
   "outputs": [],
   "source": [
    "x,y=2,3"
   ]
  },
  {
   "cell_type": "code",
   "execution_count": 4,
   "id": "d8800db8-8ec1-488c-8aa4-6ff958e331c7",
   "metadata": {},
   "outputs": [
    {
     "data": {
      "text/plain": [
       "2"
      ]
     },
     "execution_count": 4,
     "metadata": {},
     "output_type": "execute_result"
    }
   ],
   "source": [
    "x"
   ]
  },
  {
   "cell_type": "code",
   "execution_count": 5,
   "id": "0f1f2629-566d-4d2c-b898-4a6282e60828",
   "metadata": {},
   "outputs": [
    {
     "data": {
      "text/plain": [
       "3"
      ]
     },
     "execution_count": 5,
     "metadata": {},
     "output_type": "execute_result"
    }
   ],
   "source": [
    "y"
   ]
  },
  {
   "cell_type": "code",
   "execution_count": 6,
   "id": "ebe0479f-5f07-492c-9a81-67fd551bb9ea",
   "metadata": {},
   "outputs": [],
   "source": [
    "tu=(23,'abc',4.56,(2,3),'def')"
   ]
  },
  {
   "cell_type": "code",
   "execution_count": 7,
   "id": "72f62762-3e0a-401a-861b-1e27e8a7b39c",
   "metadata": {},
   "outputs": [
    {
     "data": {
      "text/plain": [
       "23"
      ]
     },
     "execution_count": 7,
     "metadata": {},
     "output_type": "execute_result"
    }
   ],
   "source": [
    "tu[0]"
   ]
  },
  {
   "cell_type": "code",
   "execution_count": 8,
   "id": "a9c4500d-879a-4d49-933c-73a7da691137",
   "metadata": {},
   "outputs": [
    {
     "data": {
      "text/plain": [
       "'abc'"
      ]
     },
     "execution_count": 8,
     "metadata": {},
     "output_type": "execute_result"
    }
   ],
   "source": [
    "tu[1]"
   ]
  },
  {
   "cell_type": "code",
   "execution_count": 9,
   "id": "1923361a-21ed-4a26-a151-3caf23b90bed",
   "metadata": {},
   "outputs": [],
   "source": [
    "li=[\"abc\",34,4.34,23]"
   ]
  },
  {
   "cell_type": "code",
   "execution_count": 10,
   "id": "bcb9f292-6842-4510-800c-f8ed0097cc78",
   "metadata": {},
   "outputs": [
    {
     "data": {
      "text/plain": [
       "34"
      ]
     },
     "execution_count": 10,
     "metadata": {},
     "output_type": "execute_result"
    }
   ],
   "source": [
    "li[1]"
   ]
  },
  {
   "cell_type": "code",
   "execution_count": 11,
   "id": "3654c4e5-2422-40d2-9b0c-7283a4bfb301",
   "metadata": {},
   "outputs": [],
   "source": [
    "st=\"Hello World\""
   ]
  },
  {
   "cell_type": "code",
   "execution_count": 12,
   "id": "fa18cf03-0a8b-4137-9514-5f5646ac8303",
   "metadata": {},
   "outputs": [
    {
     "data": {
      "text/plain": [
       "'e'"
      ]
     },
     "execution_count": 12,
     "metadata": {},
     "output_type": "execute_result"
    }
   ],
   "source": [
    "st[1]"
   ]
  },
  {
   "cell_type": "code",
   "execution_count": 15,
   "id": "792ca89b-9d7c-40b1-9ab1-575e747d1c0d",
   "metadata": {},
   "outputs": [],
   "source": [
    "st =\"\"\" This is a multi-line\n",
    "string that uses triple quotes.\"\"\""
   ]
  },
  {
   "cell_type": "code",
   "execution_count": 16,
   "id": "d0e0290d-471c-4344-b302-a643a0169a49",
   "metadata": {},
   "outputs": [
    {
     "data": {
      "text/plain": [
       "' This is a multi-line\\nstring that uses triple quotes.'"
      ]
     },
     "execution_count": 16,
     "metadata": {},
     "output_type": "execute_result"
    }
   ],
   "source": [
    "st"
   ]
  },
  {
   "cell_type": "code",
   "execution_count": 17,
   "id": "59f622c7-087d-4845-9b21-0942a64e8286",
   "metadata": {},
   "outputs": [
    {
     "name": "stdout",
     "output_type": "stream",
     "text": [
      " This is a multi-line\n",
      "string that uses triple quotes.\n"
     ]
    }
   ],
   "source": [
    "print(st)"
   ]
  },
  {
   "cell_type": "code",
   "execution_count": null,
   "id": "a101154c-adf9-431b-9709-fabf6db3e6e1",
   "metadata": {},
   "outputs": [],
   "source": []
  }
 ],
 "metadata": {
  "kernelspec": {
   "display_name": "Python 3",
   "language": "python",
   "name": "python3"
  },
  "language_info": {
   "codemirror_mode": {
    "name": "ipython",
    "version": 3
   },
   "file_extension": ".py",
   "mimetype": "text/x-python",
   "name": "python",
   "nbconvert_exporter": "python",
   "pygments_lexer": "ipython3",
   "version": "3.8.8"
  }
 },
 "nbformat": 4,
 "nbformat_minor": 5
}
